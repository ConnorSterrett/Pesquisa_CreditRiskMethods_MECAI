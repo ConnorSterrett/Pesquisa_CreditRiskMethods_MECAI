{
 "cells": [
  {
   "cell_type": "code",
   "execution_count": 17,
   "metadata": {},
   "outputs": [],
   "source": [
    "#The purpose of this code is to demonstrate when linear regression is a good fit\n",
    "#and how it does not fit for binary problems.  Then a logistic regression is used to demonstrate\n",
    "#a more appropriate fit.\n",
    "#To accomplish this, a few sample datasets are created & the two models are demonstrated\n",
    "\n",
    "# Author: Connor Sterrett\n",
    "\n",
    "# ~~~~~~ Changelog ~~~~~~\n",
    "# Version: v1\n",
    "# Date: 2019-11-02\n",
    "# Notes: Created datasets\n",
    "\n",
    "# Version: v2\n",
    "# Date: 2019-11-24\n",
    "# Notes: Re-drew the sample and increased the number of players\n",
    "# ~~~~~~~~~~~~~~~~~~~~~~~~\n",
    "\n",
    "# Import statements\n",
    "import numpy as np\n",
    "import pandas as pd\n",
    "import matplotlib as mpl\n",
    "import matplotlib.pyplot as plt\n",
    "import seaborn as seabornInstance \n",
    "from sklearn.model_selection import train_test_split \n",
    "from sklearn.linear_model import LinearRegression\n",
    "from sklearn.linear_model import LogisticRegression\n",
    "from sklearn import metrics\n",
    "%matplotlib inline\n",
    "\n",
    "# Allow multiple outputs from a single cell\n",
    "from IPython.core.interactiveshell import InteractiveShell\n",
    "InteractiveShell.ast_node_interactivity = \"all\""
   ]
  },
  {
   "cell_type": "code",
   "execution_count": 3,
   "metadata": {},
   "outputs": [],
   "source": [
    "# Create a randomly distributed height - only to be used once\n",
    "# Commented out in order to not overwrite generation\n",
    "# Then save the height into a dataframe\n",
    "\n",
    "# # Create an example dataset of height and weight.\n",
    "height = np.random.normal(160,20,size=1000)\n",
    "df_1 = pd.DataFrame(data=height)\n",
    "\n",
    "df_1.to_pickle(\"./height_2.pkl\")"
   ]
  },
  {
   "cell_type": "code",
   "execution_count": 4,
   "metadata": {},
   "outputs": [
    {
     "data": {
      "text/plain": [
       "<matplotlib.axes._subplots.AxesSubplot at 0x26d97c001c8>"
      ]
     },
     "execution_count": 4,
     "metadata": {},
     "output_type": "execute_result"
    },
    {
     "data": {
      "image/png": "[encoded data removed]",
      "text/plain": [
       "<Figure size 432x288 with 1 Axes>"
      ]
     },
     "metadata": {
      "needs_background": "light"
     },
     "output_type": "display_data"
    }
   ],
   "source": [
    "df_1 = pd.read_pickle(\"./height_2.pkl\")\n",
    "df_1.columns = ['height_cm']\n",
    "# Visualize the distribution\n",
    "df_1.plot.hist()"
   ]
  },
  {
   "cell_type": "code",
   "execution_count": 5,
   "metadata": {},
   "outputs": [
    {
     "data": {
      "text/plain": [
       "<matplotlib.collections.PathCollection at 0x26d98260708>"
      ]
     },
     "execution_count": 5,
     "metadata": {},
     "output_type": "execute_result"
    },
    {
     "data": {
      "text/plain": [
       "Text(0.5, 1.0, 'Height & Weight')"
      ]
     },
     "execution_count": 5,
     "metadata": {},
     "output_type": "execute_result"
    },
    {
     "data": {
      "text/plain": [
       "Text(0.5, 0, 'height_cm')"
      ]
     },
     "execution_count": 5,
     "metadata": {},
     "output_type": "execute_result"
    },
    {
     "data": {
      "text/plain": [
       "Text(0, 0.5, 'weight_kg')"
      ]
     },
     "execution_count": 5,
     "metadata": {},
     "output_type": "execute_result"
    },
    {
     "data": {
      "text/html": [
       "<div>\n",
       "<style scoped>\n",
       "    .dataframe tbody tr th:only-of-type {\n",
       "        vertical-align: middle;\n",
       "    }\n",
       "\n",
       "    .dataframe tbody tr th {\n",
       "        vertical-align: top;\n",
       "    }\n",
       "\n",
       "    .dataframe thead th {\n",
       "        text-align: right;\n",
       "    }\n",
       "</style>\n",
       "<table border=\"1\" class=\"dataframe\">\n",
       "  <thead>\n",
       "    <tr style=\"text-align: right;\">\n",
       "      <th></th>\n",
       "      <th>height_cm</th>\n",
       "      <th>weight_kg</th>\n",
       "    </tr>\n",
       "  </thead>\n",
       "  <tbody>\n",
       "    <tr>\n",
       "      <td>count</td>\n",
       "      <td>1000.000000</td>\n",
       "      <td>1000.000000</td>\n",
       "    </tr>\n",
       "    <tr>\n",
       "      <td>mean</td>\n",
       "      <td>159.592295</td>\n",
       "      <td>65.061513</td>\n",
       "    </tr>\n",
       "    <tr>\n",
       "      <td>std</td>\n",
       "      <td>19.937131</td>\n",
       "      <td>10.938610</td>\n",
       "    </tr>\n",
       "    <tr>\n",
       "      <td>min</td>\n",
       "      <td>84.553856</td>\n",
       "      <td>27.708108</td>\n",
       "    </tr>\n",
       "    <tr>\n",
       "      <td>25%</td>\n",
       "      <td>146.164633</td>\n",
       "      <td>57.898319</td>\n",
       "    </tr>\n",
       "    <tr>\n",
       "      <td>50%</td>\n",
       "      <td>159.987381</td>\n",
       "      <td>65.377547</td>\n",
       "    </tr>\n",
       "    <tr>\n",
       "      <td>75%</td>\n",
       "      <td>173.518617</td>\n",
       "      <td>72.191811</td>\n",
       "    </tr>\n",
       "    <tr>\n",
       "      <td>max</td>\n",
       "      <td>218.470300</td>\n",
       "      <td>96.267216</td>\n",
       "    </tr>\n",
       "  </tbody>\n",
       "</table>\n",
       "</div>"
      ],
      "text/plain": [
       "         height_cm    weight_kg\n",
       "count  1000.000000  1000.000000\n",
       "mean    159.592295    65.061513\n",
       "std      19.937131    10.938610\n",
       "min      84.553856    27.708108\n",
       "25%     146.164633    57.898319\n",
       "50%     159.987381    65.377547\n",
       "75%     173.518617    72.191811\n",
       "max     218.470300    96.267216"
      ]
     },
     "execution_count": 5,
     "metadata": {},
     "output_type": "execute_result"
    },
    {
     "data": {
      "image/png": "[encoded data removed]",
      "text/plain": [
       "<Figure size 432x288 with 1 Axes>"
      ]
     },
     "metadata": {
      "needs_background": "light"
     },
     "output_type": "display_data"
    }
   ],
   "source": [
    "# Add weight based on height\n",
    "# Comment out in order to not overwrite\n",
    "height = df_1['height_cm']\n",
    "avg_height = np.mean(height)\n",
    "\n",
    "# Take the % difference from the mean height and multiply it by the\n",
    "# average weight (65kg) as a starting point for weight\n",
    "st_weight = 65*(1+((height - avg_height)/avg_height))\n",
    "\n",
    "# Distribute weight normally around the starting point\n",
    "tst_weight = np.random.normal(st_weight,7)\n",
    "\n",
    "# Write into dataframe\n",
    "df_1['weight_kg'] = tst_weight\n",
    "\n",
    "# Plot relationship between height and weight\n",
    "plt.scatter(df_1['height_cm'],df_1['weight_kg'],s=15)\n",
    "plt.title(\"Height & Weight\")\n",
    "plt.xlabel(\"height_cm\")\n",
    "plt.ylabel(\"weight_kg\")\n",
    "# df_1.plot.scatter(x='height_cm',y='weight_kg',title='Height & Weight')\n",
    "df_1.describe()\n",
    "\n",
    "# Write to file\n",
    "df_1.to_pickle(\"./height_wt_2.pkl\")"
   ]
  },
  {
   "cell_type": "code",
   "execution_count": 6,
   "metadata": {},
   "outputs": [
    {
     "data": {
      "text/plain": [
       "LinearRegression(copy_X=True, fit_intercept=True, n_jobs=None, normalize=False)"
      ]
     },
     "execution_count": 6,
     "metadata": {},
     "output_type": "execute_result"
    },
    {
     "data": {
      "text/plain": [
       "<matplotlib.collections.PathCollection at 0x26d98258fc8>"
      ]
     },
     "execution_count": 6,
     "metadata": {},
     "output_type": "execute_result"
    },
    {
     "data": {
      "text/plain": [
       "[<matplotlib.lines.Line2D at 0x26d982eb7c8>]"
      ]
     },
     "execution_count": 6,
     "metadata": {},
     "output_type": "execute_result"
    },
    {
     "data": {
      "text/plain": [
       "Text(0.5, 1.0, 'Height & Weight - Linear Regression')"
      ]
     },
     "execution_count": 6,
     "metadata": {},
     "output_type": "execute_result"
    },
    {
     "data": {
      "text/plain": [
       "Text(0.5, 0, 'height_cm')"
      ]
     },
     "execution_count": 6,
     "metadata": {},
     "output_type": "execute_result"
    },
    {
     "data": {
      "text/plain": [
       "Text(0, 0.5, 'weight_kg')"
      ]
     },
     "execution_count": 6,
     "metadata": {},
     "output_type": "execute_result"
    },
    {
     "name": "stdout",
     "output_type": "stream",
     "text": [
      "Mean Absolute Error: 5.738291274376733\n",
      "Mean Squared Error: 51.8634721333425\n",
      "Root Mean Squared Error: 7.201629824792614\n",
      "R^2: 0.7524079872095801\n"
     ]
    },
    {
     "data": {
      "image/png": "[encoded data removed]",
      "text/plain": [
       "<Figure size 432x288 with 1 Axes>"
      ]
     },
     "metadata": {
      "needs_background": "light"
     },
     "output_type": "display_data"
    }
   ],
   "source": [
    "# Fit a linear regression to the data\n",
    "df_1 = pd.read_pickle(\"./height_wt_2.pkl\")\n",
    "x = df_1['height_cm'].values.reshape(-1,1)\n",
    "y = df_1['weight_kg'].values.reshape(-1,1)\n",
    "regressor = LinearRegression()\n",
    "regressor.fit(x,y)\n",
    "\n",
    "df_1['pred_wt_lr'] = regressor.predict(x)\n",
    "\n",
    "plt.scatter(df_1['height_cm'],df_1['weight_kg'], color='tab:blue', s=15)\n",
    "plt.plot(df_1['height_cm'],df_1['pred_wt_lr'],color='k')\n",
    "plt.title(\"Height & Weight - Linear Regression\")\n",
    "plt.xlabel(\"height_cm\")\n",
    "plt.ylabel(\"weight_kg\")\n",
    "\n",
    "\n",
    "print('Mean Absolute Error:', metrics.mean_absolute_error(df_1['weight_kg'], df_1['pred_wt_lr']))  \n",
    "print('Mean Squared Error:', metrics.mean_squared_error(df_1['weight_kg'], df_1['pred_wt_lr']))  \n",
    "print('Root Mean Squared Error:', np.sqrt(metrics.mean_squared_error(df_1['weight_kg'], df_1['pred_wt_lr'])))\n",
    "print('R^2:', np.sqrt(metrics.r2_score(df_1['weight_kg'], df_1['pred_wt_lr'])))"
   ]
  },
  {
   "cell_type": "code",
   "execution_count": 64,
   "metadata": {},
   "outputs": [
    {
     "data": {
      "text/plain": [
       "0    984\n",
       "1     16\n",
       "Name: team_ind, dtype: int64"
      ]
     },
     "execution_count": 64,
     "metadata": {},
     "output_type": "execute_result"
    },
    {
     "data": {
      "text/plain": [
       "<matplotlib.collections.PathCollection at 0x26d9bb68d88>"
      ]
     },
     "execution_count": 64,
     "metadata": {},
     "output_type": "execute_result"
    },
    {
     "data": {
      "text/plain": [
       "Text(0.5, 1.0, 'Height & Team Membership Indicator')"
      ]
     },
     "execution_count": 64,
     "metadata": {},
     "output_type": "execute_result"
    },
    {
     "data": {
      "text/plain": [
       "Text(0.5, 0, 'height_cm')"
      ]
     },
     "execution_count": 64,
     "metadata": {},
     "output_type": "execute_result"
    },
    {
     "data": {
      "text/plain": [
       "Text(0, 0.5, 'team_ind')"
      ]
     },
     "execution_count": 64,
     "metadata": {},
     "output_type": "execute_result"
    },
    {
     "data": {
      "image/png": "[encoded data removed]",
      "text/plain": [
       "<Figure size 432x288 with 1 Axes>"
      ]
     },
     "metadata": {
      "needs_background": "light"
     },
     "output_type": "display_data"
    }
   ],
   "source": [
    "# Generate a third variable - membership of basketball team\n",
    "# Binary variable with increasing probability based on height\n",
    "\n",
    "avg_height = np.mean(df_1['height_cm'])\n",
    "\n",
    "# Take the % difference from the mean height and multiply it by the\n",
    "# average weight (65kg) as a starting point for weight\n",
    "st_prob = 0.5*(1+((df_1['height_cm'] - avg_height)/avg_height))\n",
    "\n",
    "# Distribute prob normally around the starting point\n",
    "tst_prob = np.random.normal(st_prob,.05)\n",
    "    \n",
    "# Create a function to calculate the indicator based on the top probability\n",
    "def fn_team_ind(row):\n",
    "    st_prob = 0.7*(1+((row['height_cm'] - avg_height)/avg_height))\n",
    "    tst_prob = np.random.normal(st_prob,.05)\n",
    "    if tst_prob > .92:\n",
    "        return 1\n",
    "    else:\n",
    "        return 0\n",
    "\n",
    "# Comment in order to not overwrite\n",
    "df_1['team_ind']= df_1.apply(fn_team_ind,axis=1)\n",
    "df_1['team_ind'].value_counts()\n",
    "\n",
    "plt.scatter(df_1['height_cm'],df_1['team_ind'],s=15)\n",
    "plt.title(\"Height & Team Membership Indicator\")\n",
    "plt.xlabel(\"height_cm\")\n",
    "plt.ylabel(\"team_ind\")\n",
    "\n",
    "df_1.to_pickle(\"./height_wt_team_2.pkl\")"
   ]
  },
  {
   "cell_type": "code",
   "execution_count": 65,
   "metadata": {},
   "outputs": [
    {
     "data": {
      "text/plain": [
       "LinearRegression(copy_X=True, fit_intercept=True, n_jobs=None, normalize=False)"
      ]
     },
     "execution_count": 65,
     "metadata": {},
     "output_type": "execute_result"
    },
    {
     "data": {
      "text/plain": [
       "<matplotlib.collections.PathCollection at 0x26d9bbb22c8>"
      ]
     },
     "execution_count": 65,
     "metadata": {},
     "output_type": "execute_result"
    },
    {
     "data": {
      "text/plain": [
       "[<matplotlib.lines.Line2D at 0x26d9a52abc8>]"
      ]
     },
     "execution_count": 65,
     "metadata": {},
     "output_type": "execute_result"
    },
    {
     "data": {
      "text/plain": [
       "Text(0.5, 1.0, 'Height & Team Membership - Linear Regression')"
      ]
     },
     "execution_count": 65,
     "metadata": {},
     "output_type": "execute_result"
    },
    {
     "data": {
      "text/plain": [
       "Text(0.5, 0, 'height_cm')"
      ]
     },
     "execution_count": 65,
     "metadata": {},
     "output_type": "execute_result"
    },
    {
     "data": {
      "text/plain": [
       "Text(0, 0.5, 'team_ind')"
      ]
     },
     "execution_count": 65,
     "metadata": {},
     "output_type": "execute_result"
    },
    {
     "name": "stdout",
     "output_type": "stream",
     "text": [
      "Mean Absolute Error: 0.042977819449970825\n",
      "Mean Squared Error: 0.014671256261010453\n",
      "Root Mean Squared Error: 0.12112496134575422\n",
      "R^2: 0.26103001822292826\n"
     ]
    },
    {
     "data": {
      "image/png": "[encoded data removed]",
      "text/plain": [
       "<Figure size 432x288 with 1 Axes>"
      ]
     },
     "metadata": {
      "needs_background": "light"
     },
     "output_type": "display_data"
    }
   ],
   "source": [
    "# Apply a linear regression to the height and membership\n",
    "df_1 = pd.read_pickle(\"./height_wt_team_2.pkl\")\n",
    "x_2 = df_1['height_cm'].values.reshape(-1,1)\n",
    "y_2 = df_1['team_ind'].values.reshape(-1,1)\n",
    "regressor_2 = LinearRegression()\n",
    "regressor_2.fit(x_2,y_2)\n",
    "\n",
    "df_1['pred_tm_lr'] = regressor_2.predict(x_2)\n",
    "\n",
    "plt.scatter(df_1['height_cm'],df_1['team_ind'], color='tab:blue', s=15)\n",
    "plt.plot(df_1['height_cm'],df_1['pred_tm_lr'],color='k')\n",
    "plt.title(\"Height & Team Membership - Linear Regression\")\n",
    "plt.xlabel(\"height_cm\")\n",
    "plt.ylabel(\"team_ind\")\n",
    "\n",
    "\n",
    "print('Mean Absolute Error:', metrics.mean_absolute_error(df_1['team_ind'], df_1['pred_tm_lr']))  \n",
    "print('Mean Squared Error:', metrics.mean_squared_error(df_1['team_ind'], df_1['pred_tm_lr']))  \n",
    "print('Root Mean Squared Error:', np.sqrt(metrics.mean_squared_error(df_1['team_ind'], df_1['pred_tm_lr'])))\n",
    "print('R^2:', np.sqrt(metrics.r2_score(df_1['team_ind'], df_1['pred_tm_lr'])))"
   ]
  },
  {
   "cell_type": "code",
   "execution_count": 66,
   "metadata": {},
   "outputs": [
    {
     "data": {
      "text/plain": [
       "<matplotlib.collections.PathCollection at 0x26d9a5e6cc8>"
      ]
     },
     "execution_count": 66,
     "metadata": {},
     "output_type": "execute_result"
    },
    {
     "data": {
      "text/plain": [
       "Text(0.5, 1.0, 'Team Membership Error & Height')"
      ]
     },
     "execution_count": 66,
     "metadata": {},
     "output_type": "execute_result"
    },
    {
     "data": {
      "text/plain": [
       "Text(0.5, 0, 'height_cm')"
      ]
     },
     "execution_count": 66,
     "metadata": {},
     "output_type": "execute_result"
    },
    {
     "data": {
      "text/plain": [
       "Text(0, 0.5, 'error_team_membership')"
      ]
     },
     "execution_count": 66,
     "metadata": {},
     "output_type": "execute_result"
    },
    {
     "data": {
      "image/png": "[encoded data removed]",
      "text/plain": [
       "<Figure size 432x288 with 1 Axes>"
      ]
     },
     "metadata": {
      "needs_background": "light"
     },
     "output_type": "display_data"
    }
   ],
   "source": [
    "# Plot the error of the linear regression model\n",
    "df_1['err_pred_tm_lr'] = df_1['team_ind']-df_1['pred_tm_lr']\n",
    "plt.scatter(df_1['height_cm'],df_1['err_pred_tm_lr'], color='tab:blue', s=15)\n",
    "plt.title(\"Team Membership Error & Height\")\n",
    "plt.xlabel(\"height_cm\")\n",
    "plt.ylabel(\"error_team_membership\")"
   ]
  },
  {
   "cell_type": "code",
   "execution_count": 67,
   "metadata": {},
   "outputs": [
    {
     "data": {
      "text/plain": [
       "<matplotlib.collections.PathCollection at 0x26d9bc31a08>"
      ]
     },
     "execution_count": 67,
     "metadata": {},
     "output_type": "execute_result"
    },
    {
     "data": {
      "text/plain": [
       "Text(0.5, 1.0, 'Weight Error & Height')"
      ]
     },
     "execution_count": 67,
     "metadata": {},
     "output_type": "execute_result"
    },
    {
     "data": {
      "text/plain": [
       "Text(0.5, 0, 'height_cm')"
      ]
     },
     "execution_count": 67,
     "metadata": {},
     "output_type": "execute_result"
    },
    {
     "data": {
      "text/plain": [
       "Text(0, 0.5, 'error_weight')"
      ]
     },
     "execution_count": 67,
     "metadata": {},
     "output_type": "execute_result"
    },
    {
     "data": {
      "image/png": "[encoded data removed]",
      "text/plain": [
       "<Figure size 432x288 with 1 Axes>"
      ]
     },
     "metadata": {
      "needs_background": "light"
     },
     "output_type": "display_data"
    }
   ],
   "source": [
    "# Compare to the error predicted for weight\n",
    "df_1['err_pred_wt_lr'] = df_1['weight_kg']-df_1['pred_wt_lr']\n",
    "plt.scatter(df_1['height_cm'],df_1['err_pred_wt_lr'], color='tab:blue', s=15)\n",
    "plt.title(\"Weight Error & Height\")\n",
    "plt.xlabel(\"height_cm\")\n",
    "plt.ylabel(\"error_weight\")"
   ]
  },
  {
   "cell_type": "code",
   "execution_count": 80,
   "metadata": {},
   "outputs": [
    {
     "data": {
      "text/plain": [
       "(1000, 1)"
      ]
     },
     "execution_count": 80,
     "metadata": {},
     "output_type": "execute_result"
    },
    {
     "data": {
      "text/plain": [
       "LogisticRegression(C=1.0, class_weight=None, dual=False, fit_intercept=True,\n",
       "                   intercept_scaling=1, l1_ratio=None, max_iter=100,\n",
       "                   multi_class='warn', n_jobs=None, penalty='l2',\n",
       "                   random_state=None, solver='lbfgs', tol=0.0001, verbose=0,\n",
       "                   warm_start=False)"
      ]
     },
     "execution_count": 80,
     "metadata": {},
     "output_type": "execute_result"
    },
    {
     "data": {
      "text/plain": [
       "array([0, 1], dtype=int64)"
      ]
     },
     "execution_count": 80,
     "metadata": {},
     "output_type": "execute_result"
    },
    {
     "data": {
      "text/plain": [
       "array([[0.19597055]])"
      ]
     },
     "execution_count": 80,
     "metadata": {},
     "output_type": "execute_result"
    },
    {
     "data": {
      "text/plain": [
       "array([-40.1917315])"
      ]
     },
     "execution_count": 80,
     "metadata": {},
     "output_type": "execute_result"
    },
    {
     "data": {
      "text/plain": [
       "<matplotlib.collections.PathCollection at 0x26d9d1bf288>"
      ]
     },
     "execution_count": 80,
     "metadata": {},
     "output_type": "execute_result"
    },
    {
     "data": {
      "text/plain": [
       "[<matplotlib.lines.Line2D at 0x26d9d203848>]"
      ]
     },
     "execution_count": 80,
     "metadata": {},
     "output_type": "execute_result"
    },
    {
     "data": {
      "text/plain": [
       "<matplotlib.lines.Line2D at 0x26d9d232b88>"
      ]
     },
     "execution_count": 80,
     "metadata": {},
     "output_type": "execute_result"
    },
    {
     "data": {
      "text/plain": [
       "Text(0.5, 1.0, 'Height & Team Membership - Logistic Regression')"
      ]
     },
     "execution_count": 80,
     "metadata": {},
     "output_type": "execute_result"
    },
    {
     "data": {
      "text/plain": [
       "Text(0.5, 0, 'height_cm')"
      ]
     },
     "execution_count": 80,
     "metadata": {},
     "output_type": "execute_result"
    },
    {
     "data": {
      "text/plain": [
       "Text(0, 0.5, 'team_ind')"
      ]
     },
     "execution_count": 80,
     "metadata": {},
     "output_type": "execute_result"
    },
    {
     "name": "stdout",
     "output_type": "stream",
     "text": [
      "Mean Absolute Error: 0.014\n",
      "Mean Squared Error: 0.014\n",
      "Root Mean Squared Error: 0.11832159566199232\n",
      "R^2: 0.3328248153662485\n",
      "              precision    recall  f1-score   support\n",
      "\n",
      "           0       0.99      1.00      0.99       984\n",
      "           1       0.67      0.25      0.36        16\n",
      "\n",
      "    accuracy                           0.99      1000\n",
      "   macro avg       0.83      0.62      0.68      1000\n",
      "weighted avg       0.98      0.99      0.98      1000\n",
      "\n"
     ]
    },
    {
     "data": {
      "image/png": "[encoded data removed]",
      "text/plain": [
       "<Figure size 432x288 with 1 Axes>"
      ]
     },
     "metadata": {
      "needs_background": "light"
     },
     "output_type": "display_data"
    }
   ],
   "source": [
    "# Fit a logistic regression to the team membership data\n",
    "df_1 = pd.read_pickle(\"./height_wt_team_2.pkl\")\n",
    "# x_2 = np.ravel(df_1['height_cm'].values)\n",
    "# y_2 = np.ravel(df_1['team_ind'].values)\n",
    "\n",
    "# x_2 = np.ravel(df_1['height_cm'].values)\n",
    "\n",
    "x_2 = df_1['height_cm'].values.reshape(-1,1)\n",
    "x_2.shape\n",
    "\n",
    "# x_2\n",
    "y_2 = np.ravel(df_1['team_ind'].values)\n",
    "# y_2\n",
    "# df_1['height_cm'].values.shape()\n",
    "# df_1['team_ind'].values.shape()\n",
    "# x_2.shape()\n",
    "# y_2.shape()\n",
    "# y_2 = df_1['team_ind'].values.reshape(-1,1)\n",
    "regressor_logr = LogisticRegression(solver=\"lbfgs\")\n",
    "regressor_logr.fit(x_2,y_2)\n",
    "regressor_logr.classes_\n",
    "regressor_logr.coef_\n",
    "regressor_logr.intercept_\n",
    "\n",
    "\n",
    "df_1['pred_tm_logr'] = regressor_logr.predict(x_2)\n",
    "df_1['pred_prob_logr'] = regressor_logr.predict_proba(x_2)[:,1]\n",
    "\n",
    "#Generate a plot of the expected probability at each height to illustrate sigmoid curve\n",
    "exmpl_ht = np.arange(80,220,1)\n",
    "probabilities = []\n",
    "for h in exmpl_ht:\n",
    "    p_nt, p_t = regressor_logr.predict_proba([[h]])[0]\n",
    "    probabilities.append(p_t)\n",
    "\n",
    "plt.scatter(df_1['height_cm'],df_1['team_ind'], c=df_1['pred_tm_logr'],s=20)\n",
    "plt.plot(exmpl_ht,probabilities,color='green')\n",
    "plt.axhline(y=0.5,color='k',linestyle='--')\n",
    "plt.title(\"Height & Team Membership - Logistic Regression\")\n",
    "plt.xlabel(\"height_cm\")\n",
    "plt.ylabel(\"team_ind\")\n",
    "\n",
    "\n",
    "print('Mean Absolute Error:', metrics.mean_absolute_error(df_1['team_ind'], df_1['pred_tm_logr']))  \n",
    "print('Mean Squared Error:', metrics.mean_squared_error(df_1['team_ind'], df_1['pred_tm_logr']))  \n",
    "print('Root Mean Squared Error:', np.sqrt(metrics.mean_squared_error(df_1['team_ind'], df_1['pred_tm_logr'])))\n",
    "print('R^2:', np.sqrt(metrics.r2_score(df_1['team_ind'], df_1['pred_tm_logr'])))\n",
    "\n",
    "print(metrics.classification_report(df_1['team_ind'], df_1['pred_tm_logr']))\n",
    "\n",
    "# df_1.loc[(df_1['pred_prob_logr']>=.4) & (df_1['pred_prob_logr']<=.6)]\n",
    "# df_1.loc[df_1['height_cm']>=200]\n",
    "# regressor_logr.predict_proba(200.486959)[:,1]\n",
    "\n",
    "# Plot the probability "
   ]
  },
  {
   "cell_type": "code",
   "execution_count": 81,
   "metadata": {},
   "outputs": [
    {
     "data": {
      "text/plain": [
       "<matplotlib.collections.PathCollection at 0x26d9d232108>"
      ]
     },
     "execution_count": 81,
     "metadata": {},
     "output_type": "execute_result"
    },
    {
     "data": {
      "text/plain": [
       "Text(0.5, 1.0, 'Team Membership Error & Height')"
      ]
     },
     "execution_count": 81,
     "metadata": {},
     "output_type": "execute_result"
    },
    {
     "data": {
      "text/plain": [
       "Text(0.5, 0, 'height_cm')"
      ]
     },
     "execution_count": 81,
     "metadata": {},
     "output_type": "execute_result"
    },
    {
     "data": {
      "text/plain": [
       "Text(0, 0.5, 'error_team_membership')"
      ]
     },
     "execution_count": 81,
     "metadata": {},
     "output_type": "execute_result"
    },
    {
     "data": {
      "image/png": "[encoded data removed]",
      "text/plain": [
       "<Figure size 432x288 with 1 Axes>"
      ]
     },
     "metadata": {
      "needs_background": "light"
     },
     "output_type": "display_data"
    }
   ],
   "source": [
    "#Plot the error for the logistic regression\n",
    "df_1['err_pred_tm_logr'] = df_1['team_ind']-df_1['pred_tm_logr']\n",
    "plt.scatter(df_1['height_cm'],df_1['err_pred_tm_logr'], color='tab:blue', s=15)\n",
    "plt.title(\"Team Membership Error & Height\")\n",
    "plt.xlabel(\"height_cm\")\n",
    "plt.ylabel(\"error_team_membership\")"
   ]
  },
  {
   "cell_type": "code",
   "execution_count": null,
   "metadata": {},
   "outputs": [],
   "source": []
  }
 ],
 "metadata": {
  "kernelspec": {
   "display_name": "Python 3",
   "language": "python",
   "name": "python3"
  },
  "language_info": {
   "codemirror_mode": {
    "name": "ipython",
    "version": 3
   },
   "file_extension": ".py",
   "mimetype": "text/x-python",
   "name": "python",
   "nbconvert_exporter": "python",
   "pygments_lexer": "ipython3",
   "version": "3.7.4"
  }
 },
 "nbformat": 4,
 "nbformat_minor": 2
}
